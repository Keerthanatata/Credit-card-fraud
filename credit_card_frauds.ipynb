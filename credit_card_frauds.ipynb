{
  "cells": [
    {
      "cell_type": "markdown",
      "metadata": {
        "id": "view-in-github",
        "colab_type": "text"
      },
      "source": [
        "<a href=\"https://colab.research.google.com/github/Keerthanatata/Credit-card-fraud/blob/main/credit_card_frauds.ipynb\" target=\"_parent\"><img src=\"https://colab.research.google.com/assets/colab-badge.svg\" alt=\"Open In Colab\"/></a>"
      ]
    },
    {
      "cell_type": "code",
      "execution_count": null,
      "metadata": {
        "id": "5j5RsFMS-vhA"
      },
      "outputs": [],
      "source": [
        "import pandas as pd\n",
        "import numpy as np\n",
        "import matplotlib.pyplot as plt\n",
        "from collections import Counter\n",
        "import itertools\n",
        "import seaborn as sns\n",
        "\n",
        "from sklearn.preprocessing import StandardScaler\n",
        "from sklearn.model_selection import train_test_split\n",
        "from sklearn.ensemble import RandomForestClassifier\n",
        "from sklearn.tree import DecisionTreeClassifier\n",
        "from sklearn.metrics import accuracy_score,precision_score,confusion_matrix,recall_score,f1_score\n",
        "from sklearn.linear_model import LogisticRegression\n",
        "from sklearn.metrics import confusion_matrix , accuracy_score , classification_report\n",
        "from imblearn import under_sampling\n",
        "from imblearn.under_sampling import RandomUnderSampler  "
      ]
    },
    {
      "cell_type": "code",
      "execution_count": null,
      "metadata": {
        "colab": {
          "base_uri": "https://localhost:8080/"
        },
        "id": "HYNIl5Gz-3_U",
        "outputId": "ef8654c5-9a8d-4e5e-e188-9582e83cec54"
      },
      "outputs": [
        {
          "output_type": "stream",
          "name": "stdout",
          "text": [
            "Mounted at /content/drive\n"
          ]
        }
      ],
      "source": [
        "from google.colab import drive\n",
        "drive.mount('/content/drive')"
      ]
    },
    {
      "cell_type": "code",
      "execution_count": null,
      "metadata": {
        "colab": {
          "base_uri": "https://localhost:8080/",
          "height": 299
        },
        "id": "1y5sQvJt_XIc",
        "outputId": "3b72dcc0-bf9b-417c-bd25-52d9eb8f26b8"
      },
      "outputs": [
        {
          "output_type": "execute_result",
          "data": {
            "text/plain": [
              "   Time        V1        V2        V3        V4        V5        V6        V7  \\\n",
              "0   0.0 -1.359807 -0.072781  2.536347  1.378155 -0.338321  0.462388  0.239599   \n",
              "1   0.0  1.191857  0.266151  0.166480  0.448154  0.060018 -0.082361 -0.078803   \n",
              "2   1.0 -1.358354 -1.340163  1.773209  0.379780 -0.503198  1.800499  0.791461   \n",
              "3   1.0 -0.966272 -0.185226  1.792993 -0.863291 -0.010309  1.247203  0.237609   \n",
              "4   2.0 -1.158233  0.877737  1.548718  0.403034 -0.407193  0.095921  0.592941   \n",
              "\n",
              "         V8        V9  ...       V21       V22       V23       V24       V25  \\\n",
              "0  0.098698  0.363787  ... -0.018307  0.277838 -0.110474  0.066928  0.128539   \n",
              "1  0.085102 -0.255425  ... -0.225775 -0.638672  0.101288 -0.339846  0.167170   \n",
              "2  0.247676 -1.514654  ...  0.247998  0.771679  0.909412 -0.689281 -0.327642   \n",
              "3  0.377436 -1.387024  ... -0.108300  0.005274 -0.190321 -1.175575  0.647376   \n",
              "4 -0.270533  0.817739  ... -0.009431  0.798278 -0.137458  0.141267 -0.206010   \n",
              "\n",
              "        V26       V27       V28  Amount  Class  \n",
              "0 -0.189115  0.133558 -0.021053  149.62      0  \n",
              "1  0.125895 -0.008983  0.014724    2.69      0  \n",
              "2 -0.139097 -0.055353 -0.059752  378.66      0  \n",
              "3 -0.221929  0.062723  0.061458  123.50      0  \n",
              "4  0.502292  0.219422  0.215153   69.99      0  \n",
              "\n",
              "[5 rows x 31 columns]"
            ],
            "text/html": [
              "\n",
              "  <div id=\"df-1c5622b5-5e51-4a38-a333-5955b1aa23b9\">\n",
              "    <div class=\"colab-df-container\">\n",
              "      <div>\n",
              "<style scoped>\n",
              "    .dataframe tbody tr th:only-of-type {\n",
              "        vertical-align: middle;\n",
              "    }\n",
              "\n",
              "    .dataframe tbody tr th {\n",
              "        vertical-align: top;\n",
              "    }\n",
              "\n",
              "    .dataframe thead th {\n",
              "        text-align: right;\n",
              "    }\n",
              "</style>\n",
              "<table border=\"1\" class=\"dataframe\">\n",
              "  <thead>\n",
              "    <tr style=\"text-align: right;\">\n",
              "      <th></th>\n",
              "      <th>Time</th>\n",
              "      <th>V1</th>\n",
              "      <th>V2</th>\n",
              "      <th>V3</th>\n",
              "      <th>V4</th>\n",
              "      <th>V5</th>\n",
              "      <th>V6</th>\n",
              "      <th>V7</th>\n",
              "      <th>V8</th>\n",
              "      <th>V9</th>\n",
              "      <th>...</th>\n",
              "      <th>V21</th>\n",
              "      <th>V22</th>\n",
              "      <th>V23</th>\n",
              "      <th>V24</th>\n",
              "      <th>V25</th>\n",
              "      <th>V26</th>\n",
              "      <th>V27</th>\n",
              "      <th>V28</th>\n",
              "      <th>Amount</th>\n",
              "      <th>Class</th>\n",
              "    </tr>\n",
              "  </thead>\n",
              "  <tbody>\n",
              "    <tr>\n",
              "      <th>0</th>\n",
              "      <td>0.0</td>\n",
              "      <td>-1.359807</td>\n",
              "      <td>-0.072781</td>\n",
              "      <td>2.536347</td>\n",
              "      <td>1.378155</td>\n",
              "      <td>-0.338321</td>\n",
              "      <td>0.462388</td>\n",
              "      <td>0.239599</td>\n",
              "      <td>0.098698</td>\n",
              "      <td>0.363787</td>\n",
              "      <td>...</td>\n",
              "      <td>-0.018307</td>\n",
              "      <td>0.277838</td>\n",
              "      <td>-0.110474</td>\n",
              "      <td>0.066928</td>\n",
              "      <td>0.128539</td>\n",
              "      <td>-0.189115</td>\n",
              "      <td>0.133558</td>\n",
              "      <td>-0.021053</td>\n",
              "      <td>149.62</td>\n",
              "      <td>0</td>\n",
              "    </tr>\n",
              "    <tr>\n",
              "      <th>1</th>\n",
              "      <td>0.0</td>\n",
              "      <td>1.191857</td>\n",
              "      <td>0.266151</td>\n",
              "      <td>0.166480</td>\n",
              "      <td>0.448154</td>\n",
              "      <td>0.060018</td>\n",
              "      <td>-0.082361</td>\n",
              "      <td>-0.078803</td>\n",
              "      <td>0.085102</td>\n",
              "      <td>-0.255425</td>\n",
              "      <td>...</td>\n",
              "      <td>-0.225775</td>\n",
              "      <td>-0.638672</td>\n",
              "      <td>0.101288</td>\n",
              "      <td>-0.339846</td>\n",
              "      <td>0.167170</td>\n",
              "      <td>0.125895</td>\n",
              "      <td>-0.008983</td>\n",
              "      <td>0.014724</td>\n",
              "      <td>2.69</td>\n",
              "      <td>0</td>\n",
              "    </tr>\n",
              "    <tr>\n",
              "      <th>2</th>\n",
              "      <td>1.0</td>\n",
              "      <td>-1.358354</td>\n",
              "      <td>-1.340163</td>\n",
              "      <td>1.773209</td>\n",
              "      <td>0.379780</td>\n",
              "      <td>-0.503198</td>\n",
              "      <td>1.800499</td>\n",
              "      <td>0.791461</td>\n",
              "      <td>0.247676</td>\n",
              "      <td>-1.514654</td>\n",
              "      <td>...</td>\n",
              "      <td>0.247998</td>\n",
              "      <td>0.771679</td>\n",
              "      <td>0.909412</td>\n",
              "      <td>-0.689281</td>\n",
              "      <td>-0.327642</td>\n",
              "      <td>-0.139097</td>\n",
              "      <td>-0.055353</td>\n",
              "      <td>-0.059752</td>\n",
              "      <td>378.66</td>\n",
              "      <td>0</td>\n",
              "    </tr>\n",
              "    <tr>\n",
              "      <th>3</th>\n",
              "      <td>1.0</td>\n",
              "      <td>-0.966272</td>\n",
              "      <td>-0.185226</td>\n",
              "      <td>1.792993</td>\n",
              "      <td>-0.863291</td>\n",
              "      <td>-0.010309</td>\n",
              "      <td>1.247203</td>\n",
              "      <td>0.237609</td>\n",
              "      <td>0.377436</td>\n",
              "      <td>-1.387024</td>\n",
              "      <td>...</td>\n",
              "      <td>-0.108300</td>\n",
              "      <td>0.005274</td>\n",
              "      <td>-0.190321</td>\n",
              "      <td>-1.175575</td>\n",
              "      <td>0.647376</td>\n",
              "      <td>-0.221929</td>\n",
              "      <td>0.062723</td>\n",
              "      <td>0.061458</td>\n",
              "      <td>123.50</td>\n",
              "      <td>0</td>\n",
              "    </tr>\n",
              "    <tr>\n",
              "      <th>4</th>\n",
              "      <td>2.0</td>\n",
              "      <td>-1.158233</td>\n",
              "      <td>0.877737</td>\n",
              "      <td>1.548718</td>\n",
              "      <td>0.403034</td>\n",
              "      <td>-0.407193</td>\n",
              "      <td>0.095921</td>\n",
              "      <td>0.592941</td>\n",
              "      <td>-0.270533</td>\n",
              "      <td>0.817739</td>\n",
              "      <td>...</td>\n",
              "      <td>-0.009431</td>\n",
              "      <td>0.798278</td>\n",
              "      <td>-0.137458</td>\n",
              "      <td>0.141267</td>\n",
              "      <td>-0.206010</td>\n",
              "      <td>0.502292</td>\n",
              "      <td>0.219422</td>\n",
              "      <td>0.215153</td>\n",
              "      <td>69.99</td>\n",
              "      <td>0</td>\n",
              "    </tr>\n",
              "  </tbody>\n",
              "</table>\n",
              "<p>5 rows × 31 columns</p>\n",
              "</div>\n",
              "      <button class=\"colab-df-convert\" onclick=\"convertToInteractive('df-1c5622b5-5e51-4a38-a333-5955b1aa23b9')\"\n",
              "              title=\"Convert this dataframe to an interactive table.\"\n",
              "              style=\"display:none;\">\n",
              "        \n",
              "  <svg xmlns=\"http://www.w3.org/2000/svg\" height=\"24px\"viewBox=\"0 0 24 24\"\n",
              "       width=\"24px\">\n",
              "    <path d=\"M0 0h24v24H0V0z\" fill=\"none\"/>\n",
              "    <path d=\"M18.56 5.44l.94 2.06.94-2.06 2.06-.94-2.06-.94-.94-2.06-.94 2.06-2.06.94zm-11 1L8.5 8.5l.94-2.06 2.06-.94-2.06-.94L8.5 2.5l-.94 2.06-2.06.94zm10 10l.94 2.06.94-2.06 2.06-.94-2.06-.94-.94-2.06-.94 2.06-2.06.94z\"/><path d=\"M17.41 7.96l-1.37-1.37c-.4-.4-.92-.59-1.43-.59-.52 0-1.04.2-1.43.59L10.3 9.45l-7.72 7.72c-.78.78-.78 2.05 0 2.83L4 21.41c.39.39.9.59 1.41.59.51 0 1.02-.2 1.41-.59l7.78-7.78 2.81-2.81c.8-.78.8-2.07 0-2.86zM5.41 20L4 18.59l7.72-7.72 1.47 1.35L5.41 20z\"/>\n",
              "  </svg>\n",
              "      </button>\n",
              "      \n",
              "  <style>\n",
              "    .colab-df-container {\n",
              "      display:flex;\n",
              "      flex-wrap:wrap;\n",
              "      gap: 12px;\n",
              "    }\n",
              "\n",
              "    .colab-df-convert {\n",
              "      background-color: #E8F0FE;\n",
              "      border: none;\n",
              "      border-radius: 50%;\n",
              "      cursor: pointer;\n",
              "      display: none;\n",
              "      fill: #1967D2;\n",
              "      height: 32px;\n",
              "      padding: 0 0 0 0;\n",
              "      width: 32px;\n",
              "    }\n",
              "\n",
              "    .colab-df-convert:hover {\n",
              "      background-color: #E2EBFA;\n",
              "      box-shadow: 0px 1px 2px rgba(60, 64, 67, 0.3), 0px 1px 3px 1px rgba(60, 64, 67, 0.15);\n",
              "      fill: #174EA6;\n",
              "    }\n",
              "\n",
              "    [theme=dark] .colab-df-convert {\n",
              "      background-color: #3B4455;\n",
              "      fill: #D2E3FC;\n",
              "    }\n",
              "\n",
              "    [theme=dark] .colab-df-convert:hover {\n",
              "      background-color: #434B5C;\n",
              "      box-shadow: 0px 1px 3px 1px rgba(0, 0, 0, 0.15);\n",
              "      filter: drop-shadow(0px 1px 2px rgba(0, 0, 0, 0.3));\n",
              "      fill: #FFFFFF;\n",
              "    }\n",
              "  </style>\n",
              "\n",
              "      <script>\n",
              "        const buttonEl =\n",
              "          document.querySelector('#df-1c5622b5-5e51-4a38-a333-5955b1aa23b9 button.colab-df-convert');\n",
              "        buttonEl.style.display =\n",
              "          google.colab.kernel.accessAllowed ? 'block' : 'none';\n",
              "\n",
              "        async function convertToInteractive(key) {\n",
              "          const element = document.querySelector('#df-1c5622b5-5e51-4a38-a333-5955b1aa23b9');\n",
              "          const dataTable =\n",
              "            await google.colab.kernel.invokeFunction('convertToInteractive',\n",
              "                                                     [key], {});\n",
              "          if (!dataTable) return;\n",
              "\n",
              "          const docLinkHtml = 'Like what you see? Visit the ' +\n",
              "            '<a target=\"_blank\" href=https://colab.research.google.com/notebooks/data_table.ipynb>data table notebook</a>'\n",
              "            + ' to learn more about interactive tables.';\n",
              "          element.innerHTML = '';\n",
              "          dataTable['output_type'] = 'display_data';\n",
              "          await google.colab.output.renderOutput(dataTable, element);\n",
              "          const docLink = document.createElement('div');\n",
              "          docLink.innerHTML = docLinkHtml;\n",
              "          element.appendChild(docLink);\n",
              "        }\n",
              "      </script>\n",
              "    </div>\n",
              "  </div>\n",
              "  "
            ]
          },
          "metadata": {},
          "execution_count": 3
        }
      ],
      "source": [
        "df=pd.DataFrame\n",
        "df = pd.read_csv(\"/content/drive/MyDrive/creditcard.csv\")\n",
        "df.head()"
      ]
    },
    {
      "cell_type": "code",
      "execution_count": null,
      "metadata": {
        "colab": {
          "base_uri": "https://localhost:8080/"
        },
        "id": "1x0LDqm9Gau5",
        "outputId": "5494f0f1-2baf-4204-a7f4-a6a7a179320d"
      },
      "outputs": [
        {
          "output_type": "execute_result",
          "data": {
            "text/plain": [
              "(284807, 31)"
            ]
          },
          "metadata": {},
          "execution_count": 4
        }
      ],
      "source": [
        "df.shape"
      ]
    },
    {
      "cell_type": "code",
      "execution_count": null,
      "metadata": {
        "colab": {
          "base_uri": "https://localhost:8080/"
        },
        "id": "5Bl9dcc_Godt",
        "outputId": "33373ee4-66c6-49a6-cf03-293225b18d11"
      },
      "outputs": [
        {
          "output_type": "stream",
          "name": "stdout",
          "text": [
            "<class 'pandas.core.frame.DataFrame'>\n",
            "RangeIndex: 284807 entries, 0 to 284806\n",
            "Data columns (total 31 columns):\n",
            " #   Column  Non-Null Count   Dtype  \n",
            "---  ------  --------------   -----  \n",
            " 0   Time    284807 non-null  float64\n",
            " 1   V1      284807 non-null  float64\n",
            " 2   V2      284807 non-null  float64\n",
            " 3   V3      284807 non-null  float64\n",
            " 4   V4      284807 non-null  float64\n",
            " 5   V5      284807 non-null  float64\n",
            " 6   V6      284807 non-null  float64\n",
            " 7   V7      284807 non-null  float64\n",
            " 8   V8      284807 non-null  float64\n",
            " 9   V9      284807 non-null  float64\n",
            " 10  V10     284807 non-null  float64\n",
            " 11  V11     284807 non-null  float64\n",
            " 12  V12     284807 non-null  float64\n",
            " 13  V13     284807 non-null  float64\n",
            " 14  V14     284807 non-null  float64\n",
            " 15  V15     284807 non-null  float64\n",
            " 16  V16     284807 non-null  float64\n",
            " 17  V17     284807 non-null  float64\n",
            " 18  V18     284807 non-null  float64\n",
            " 19  V19     284807 non-null  float64\n",
            " 20  V20     284807 non-null  float64\n",
            " 21  V21     284807 non-null  float64\n",
            " 22  V22     284807 non-null  float64\n",
            " 23  V23     284807 non-null  float64\n",
            " 24  V24     284807 non-null  float64\n",
            " 25  V25     284807 non-null  float64\n",
            " 26  V26     284807 non-null  float64\n",
            " 27  V27     284807 non-null  float64\n",
            " 28  V28     284807 non-null  float64\n",
            " 29  Amount  284807 non-null  float64\n",
            " 30  Class   284807 non-null  int64  \n",
            "dtypes: float64(30), int64(1)\n",
            "memory usage: 67.4 MB\n"
          ]
        }
      ],
      "source": [
        "df.info()"
      ]
    },
    {
      "cell_type": "code",
      "execution_count": null,
      "metadata": {
        "colab": {
          "base_uri": "https://localhost:8080/"
        },
        "id": "RBWRV0wpHMXE",
        "outputId": "2bba3195-ec73-4953-9035-b6bc8d2cbcf9"
      },
      "outputs": [
        {
          "output_type": "execute_result",
          "data": {
            "text/plain": [
              "float64    30\n",
              "int64       1\n",
              "dtype: int64"
            ]
          },
          "metadata": {},
          "execution_count": 6
        }
      ],
      "source": [
        "df.dtypes.value_counts()"
      ]
    },
    {
      "cell_type": "code",
      "execution_count": null,
      "metadata": {
        "colab": {
          "base_uri": "https://localhost:8080/"
        },
        "id": "QteGDECcHcv4",
        "outputId": "676c2c9d-d502-418a-a7a2-74549dc38d50"
      },
      "outputs": [
        {
          "output_type": "execute_result",
          "data": {
            "text/plain": [
              "1081"
            ]
          },
          "metadata": {},
          "execution_count": 7
        }
      ],
      "source": [
        "df.duplicated(keep = 'first').sum()"
      ]
    },
    {
      "cell_type": "code",
      "execution_count": null,
      "metadata": {
        "colab": {
          "base_uri": "https://localhost:8080/",
          "height": 488
        },
        "id": "ixKLpA-GINlX",
        "outputId": "03ff05f2-44ee-45d1-aef2-d6d5257a91e0"
      },
      "outputs": [
        {
          "output_type": "execute_result",
          "data": {
            "text/plain": [
              "            Time        V1        V2        V3        V4        V5        V6  \\\n",
              "33          26.0 -0.529912  0.873892  1.347247  0.145457  0.414209  0.100223   \n",
              "35          26.0 -0.535388  0.865268  1.351076  0.147575  0.433680  0.086983   \n",
              "113         74.0  1.038370  0.127486  0.184456  1.109950  0.441699  0.945283   \n",
              "114         74.0  1.038370  0.127486  0.184456  1.109950  0.441699  0.945283   \n",
              "115         74.0  1.038370  0.127486  0.184456  1.109950  0.441699  0.945283   \n",
              "...          ...       ...       ...       ...       ...       ...       ...   \n",
              "282987  171288.0  1.912550 -0.455240 -1.750654  0.454324  2.089130  4.160019   \n",
              "283483  171627.0 -1.464380  1.368119  0.815992 -0.601282 -0.689115 -0.487154   \n",
              "283485  171627.0 -1.457978  1.378203  0.811515 -0.603760 -0.711883 -0.471672   \n",
              "284191  172233.0 -2.667936  3.160505 -3.355984  1.007845 -0.377397 -0.109730   \n",
              "284193  172233.0 -2.691642  3.123168 -3.339407  1.017018 -0.293095 -0.167054   \n",
              "\n",
              "              V7        V8        V9  ...       V21       V22       V23  \\\n",
              "33      0.711206  0.176066 -0.286717  ...  0.046949  0.208105 -0.185548   \n",
              "35      0.693039  0.179742 -0.285642  ...  0.049526  0.206537 -0.187108   \n",
              "113    -0.036715  0.350995  0.118950  ...  0.102520  0.605089  0.023092   \n",
              "114    -0.036715  0.350995  0.118950  ...  0.102520  0.605089  0.023092   \n",
              "115    -0.036715  0.350995  0.118950  ...  0.102520  0.605089  0.023092   \n",
              "...          ...       ...       ...  ...       ...       ...       ...   \n",
              "282987 -0.881302  1.081750  1.022928  ... -0.524067 -1.337510  0.473943   \n",
              "283483 -0.303778  0.884953  0.054065  ...  0.287217  0.947825 -0.218773   \n",
              "283485 -0.282535  0.880654  0.052808  ...  0.284205  0.949659 -0.216949   \n",
              "284191 -0.667233  2.309700 -1.639306  ...  0.391483  0.266536 -0.079853   \n",
              "284193 -0.745886  2.325616 -1.634651  ...  0.402639  0.259746 -0.086606   \n",
              "\n",
              "             V24       V25       V26       V27       V28  Amount  Class  \n",
              "33      0.001031  0.098816 -0.552904 -0.073288  0.023307    6.14      0  \n",
              "35      0.000753  0.098117 -0.553471 -0.078306  0.025427    1.77      0  \n",
              "113    -0.626463  0.479120 -0.166937  0.081247  0.001192    1.18      0  \n",
              "114    -0.626463  0.479120 -0.166937  0.081247  0.001192    1.18      0  \n",
              "115    -0.626463  0.479120 -0.166937  0.081247  0.001192    1.18      0  \n",
              "...          ...       ...       ...       ...       ...     ...    ...  \n",
              "282987  0.616683 -0.283548 -1.084843  0.073133 -0.036020   11.99      0  \n",
              "283483  0.082926  0.044127  0.639270  0.213565  0.119251    6.82      0  \n",
              "283485  0.083250  0.044944  0.639933  0.219432  0.116772   11.93      0  \n",
              "284191 -0.096395  0.086719 -0.451128 -1.183743 -0.222200   55.66      0  \n",
              "284193 -0.097597  0.083693 -0.453584 -1.205466 -0.213020   36.74      0  \n",
              "\n",
              "[1081 rows x 31 columns]"
            ],
            "text/html": [
              "\n",
              "  <div id=\"df-5d4e1a76-235e-4bd1-bdb5-de81684db2b6\">\n",
              "    <div class=\"colab-df-container\">\n",
              "      <div>\n",
              "<style scoped>\n",
              "    .dataframe tbody tr th:only-of-type {\n",
              "        vertical-align: middle;\n",
              "    }\n",
              "\n",
              "    .dataframe tbody tr th {\n",
              "        vertical-align: top;\n",
              "    }\n",
              "\n",
              "    .dataframe thead th {\n",
              "        text-align: right;\n",
              "    }\n",
              "</style>\n",
              "<table border=\"1\" class=\"dataframe\">\n",
              "  <thead>\n",
              "    <tr style=\"text-align: right;\">\n",
              "      <th></th>\n",
              "      <th>Time</th>\n",
              "      <th>V1</th>\n",
              "      <th>V2</th>\n",
              "      <th>V3</th>\n",
              "      <th>V4</th>\n",
              "      <th>V5</th>\n",
              "      <th>V6</th>\n",
              "      <th>V7</th>\n",
              "      <th>V8</th>\n",
              "      <th>V9</th>\n",
              "      <th>...</th>\n",
              "      <th>V21</th>\n",
              "      <th>V22</th>\n",
              "      <th>V23</th>\n",
              "      <th>V24</th>\n",
              "      <th>V25</th>\n",
              "      <th>V26</th>\n",
              "      <th>V27</th>\n",
              "      <th>V28</th>\n",
              "      <th>Amount</th>\n",
              "      <th>Class</th>\n",
              "    </tr>\n",
              "  </thead>\n",
              "  <tbody>\n",
              "    <tr>\n",
              "      <th>33</th>\n",
              "      <td>26.0</td>\n",
              "      <td>-0.529912</td>\n",
              "      <td>0.873892</td>\n",
              "      <td>1.347247</td>\n",
              "      <td>0.145457</td>\n",
              "      <td>0.414209</td>\n",
              "      <td>0.100223</td>\n",
              "      <td>0.711206</td>\n",
              "      <td>0.176066</td>\n",
              "      <td>-0.286717</td>\n",
              "      <td>...</td>\n",
              "      <td>0.046949</td>\n",
              "      <td>0.208105</td>\n",
              "      <td>-0.185548</td>\n",
              "      <td>0.001031</td>\n",
              "      <td>0.098816</td>\n",
              "      <td>-0.552904</td>\n",
              "      <td>-0.073288</td>\n",
              "      <td>0.023307</td>\n",
              "      <td>6.14</td>\n",
              "      <td>0</td>\n",
              "    </tr>\n",
              "    <tr>\n",
              "      <th>35</th>\n",
              "      <td>26.0</td>\n",
              "      <td>-0.535388</td>\n",
              "      <td>0.865268</td>\n",
              "      <td>1.351076</td>\n",
              "      <td>0.147575</td>\n",
              "      <td>0.433680</td>\n",
              "      <td>0.086983</td>\n",
              "      <td>0.693039</td>\n",
              "      <td>0.179742</td>\n",
              "      <td>-0.285642</td>\n",
              "      <td>...</td>\n",
              "      <td>0.049526</td>\n",
              "      <td>0.206537</td>\n",
              "      <td>-0.187108</td>\n",
              "      <td>0.000753</td>\n",
              "      <td>0.098117</td>\n",
              "      <td>-0.553471</td>\n",
              "      <td>-0.078306</td>\n",
              "      <td>0.025427</td>\n",
              "      <td>1.77</td>\n",
              "      <td>0</td>\n",
              "    </tr>\n",
              "    <tr>\n",
              "      <th>113</th>\n",
              "      <td>74.0</td>\n",
              "      <td>1.038370</td>\n",
              "      <td>0.127486</td>\n",
              "      <td>0.184456</td>\n",
              "      <td>1.109950</td>\n",
              "      <td>0.441699</td>\n",
              "      <td>0.945283</td>\n",
              "      <td>-0.036715</td>\n",
              "      <td>0.350995</td>\n",
              "      <td>0.118950</td>\n",
              "      <td>...</td>\n",
              "      <td>0.102520</td>\n",
              "      <td>0.605089</td>\n",
              "      <td>0.023092</td>\n",
              "      <td>-0.626463</td>\n",
              "      <td>0.479120</td>\n",
              "      <td>-0.166937</td>\n",
              "      <td>0.081247</td>\n",
              "      <td>0.001192</td>\n",
              "      <td>1.18</td>\n",
              "      <td>0</td>\n",
              "    </tr>\n",
              "    <tr>\n",
              "      <th>114</th>\n",
              "      <td>74.0</td>\n",
              "      <td>1.038370</td>\n",
              "      <td>0.127486</td>\n",
              "      <td>0.184456</td>\n",
              "      <td>1.109950</td>\n",
              "      <td>0.441699</td>\n",
              "      <td>0.945283</td>\n",
              "      <td>-0.036715</td>\n",
              "      <td>0.350995</td>\n",
              "      <td>0.118950</td>\n",
              "      <td>...</td>\n",
              "      <td>0.102520</td>\n",
              "      <td>0.605089</td>\n",
              "      <td>0.023092</td>\n",
              "      <td>-0.626463</td>\n",
              "      <td>0.479120</td>\n",
              "      <td>-0.166937</td>\n",
              "      <td>0.081247</td>\n",
              "      <td>0.001192</td>\n",
              "      <td>1.18</td>\n",
              "      <td>0</td>\n",
              "    </tr>\n",
              "    <tr>\n",
              "      <th>115</th>\n",
              "      <td>74.0</td>\n",
              "      <td>1.038370</td>\n",
              "      <td>0.127486</td>\n",
              "      <td>0.184456</td>\n",
              "      <td>1.109950</td>\n",
              "      <td>0.441699</td>\n",
              "      <td>0.945283</td>\n",
              "      <td>-0.036715</td>\n",
              "      <td>0.350995</td>\n",
              "      <td>0.118950</td>\n",
              "      <td>...</td>\n",
              "      <td>0.102520</td>\n",
              "      <td>0.605089</td>\n",
              "      <td>0.023092</td>\n",
              "      <td>-0.626463</td>\n",
              "      <td>0.479120</td>\n",
              "      <td>-0.166937</td>\n",
              "      <td>0.081247</td>\n",
              "      <td>0.001192</td>\n",
              "      <td>1.18</td>\n",
              "      <td>0</td>\n",
              "    </tr>\n",
              "    <tr>\n",
              "      <th>...</th>\n",
              "      <td>...</td>\n",
              "      <td>...</td>\n",
              "      <td>...</td>\n",
              "      <td>...</td>\n",
              "      <td>...</td>\n",
              "      <td>...</td>\n",
              "      <td>...</td>\n",
              "      <td>...</td>\n",
              "      <td>...</td>\n",
              "      <td>...</td>\n",
              "      <td>...</td>\n",
              "      <td>...</td>\n",
              "      <td>...</td>\n",
              "      <td>...</td>\n",
              "      <td>...</td>\n",
              "      <td>...</td>\n",
              "      <td>...</td>\n",
              "      <td>...</td>\n",
              "      <td>...</td>\n",
              "      <td>...</td>\n",
              "      <td>...</td>\n",
              "    </tr>\n",
              "    <tr>\n",
              "      <th>282987</th>\n",
              "      <td>171288.0</td>\n",
              "      <td>1.912550</td>\n",
              "      <td>-0.455240</td>\n",
              "      <td>-1.750654</td>\n",
              "      <td>0.454324</td>\n",
              "      <td>2.089130</td>\n",
              "      <td>4.160019</td>\n",
              "      <td>-0.881302</td>\n",
              "      <td>1.081750</td>\n",
              "      <td>1.022928</td>\n",
              "      <td>...</td>\n",
              "      <td>-0.524067</td>\n",
              "      <td>-1.337510</td>\n",
              "      <td>0.473943</td>\n",
              "      <td>0.616683</td>\n",
              "      <td>-0.283548</td>\n",
              "      <td>-1.084843</td>\n",
              "      <td>0.073133</td>\n",
              "      <td>-0.036020</td>\n",
              "      <td>11.99</td>\n",
              "      <td>0</td>\n",
              "    </tr>\n",
              "    <tr>\n",
              "      <th>283483</th>\n",
              "      <td>171627.0</td>\n",
              "      <td>-1.464380</td>\n",
              "      <td>1.368119</td>\n",
              "      <td>0.815992</td>\n",
              "      <td>-0.601282</td>\n",
              "      <td>-0.689115</td>\n",
              "      <td>-0.487154</td>\n",
              "      <td>-0.303778</td>\n",
              "      <td>0.884953</td>\n",
              "      <td>0.054065</td>\n",
              "      <td>...</td>\n",
              "      <td>0.287217</td>\n",
              "      <td>0.947825</td>\n",
              "      <td>-0.218773</td>\n",
              "      <td>0.082926</td>\n",
              "      <td>0.044127</td>\n",
              "      <td>0.639270</td>\n",
              "      <td>0.213565</td>\n",
              "      <td>0.119251</td>\n",
              "      <td>6.82</td>\n",
              "      <td>0</td>\n",
              "    </tr>\n",
              "    <tr>\n",
              "      <th>283485</th>\n",
              "      <td>171627.0</td>\n",
              "      <td>-1.457978</td>\n",
              "      <td>1.378203</td>\n",
              "      <td>0.811515</td>\n",
              "      <td>-0.603760</td>\n",
              "      <td>-0.711883</td>\n",
              "      <td>-0.471672</td>\n",
              "      <td>-0.282535</td>\n",
              "      <td>0.880654</td>\n",
              "      <td>0.052808</td>\n",
              "      <td>...</td>\n",
              "      <td>0.284205</td>\n",
              "      <td>0.949659</td>\n",
              "      <td>-0.216949</td>\n",
              "      <td>0.083250</td>\n",
              "      <td>0.044944</td>\n",
              "      <td>0.639933</td>\n",
              "      <td>0.219432</td>\n",
              "      <td>0.116772</td>\n",
              "      <td>11.93</td>\n",
              "      <td>0</td>\n",
              "    </tr>\n",
              "    <tr>\n",
              "      <th>284191</th>\n",
              "      <td>172233.0</td>\n",
              "      <td>-2.667936</td>\n",
              "      <td>3.160505</td>\n",
              "      <td>-3.355984</td>\n",
              "      <td>1.007845</td>\n",
              "      <td>-0.377397</td>\n",
              "      <td>-0.109730</td>\n",
              "      <td>-0.667233</td>\n",
              "      <td>2.309700</td>\n",
              "      <td>-1.639306</td>\n",
              "      <td>...</td>\n",
              "      <td>0.391483</td>\n",
              "      <td>0.266536</td>\n",
              "      <td>-0.079853</td>\n",
              "      <td>-0.096395</td>\n",
              "      <td>0.086719</td>\n",
              "      <td>-0.451128</td>\n",
              "      <td>-1.183743</td>\n",
              "      <td>-0.222200</td>\n",
              "      <td>55.66</td>\n",
              "      <td>0</td>\n",
              "    </tr>\n",
              "    <tr>\n",
              "      <th>284193</th>\n",
              "      <td>172233.0</td>\n",
              "      <td>-2.691642</td>\n",
              "      <td>3.123168</td>\n",
              "      <td>-3.339407</td>\n",
              "      <td>1.017018</td>\n",
              "      <td>-0.293095</td>\n",
              "      <td>-0.167054</td>\n",
              "      <td>-0.745886</td>\n",
              "      <td>2.325616</td>\n",
              "      <td>-1.634651</td>\n",
              "      <td>...</td>\n",
              "      <td>0.402639</td>\n",
              "      <td>0.259746</td>\n",
              "      <td>-0.086606</td>\n",
              "      <td>-0.097597</td>\n",
              "      <td>0.083693</td>\n",
              "      <td>-0.453584</td>\n",
              "      <td>-1.205466</td>\n",
              "      <td>-0.213020</td>\n",
              "      <td>36.74</td>\n",
              "      <td>0</td>\n",
              "    </tr>\n",
              "  </tbody>\n",
              "</table>\n",
              "<p>1081 rows × 31 columns</p>\n",
              "</div>\n",
              "      <button class=\"colab-df-convert\" onclick=\"convertToInteractive('df-5d4e1a76-235e-4bd1-bdb5-de81684db2b6')\"\n",
              "              title=\"Convert this dataframe to an interactive table.\"\n",
              "              style=\"display:none;\">\n",
              "        \n",
              "  <svg xmlns=\"http://www.w3.org/2000/svg\" height=\"24px\"viewBox=\"0 0 24 24\"\n",
              "       width=\"24px\">\n",
              "    <path d=\"M0 0h24v24H0V0z\" fill=\"none\"/>\n",
              "    <path d=\"M18.56 5.44l.94 2.06.94-2.06 2.06-.94-2.06-.94-.94-2.06-.94 2.06-2.06.94zm-11 1L8.5 8.5l.94-2.06 2.06-.94-2.06-.94L8.5 2.5l-.94 2.06-2.06.94zm10 10l.94 2.06.94-2.06 2.06-.94-2.06-.94-.94-2.06-.94 2.06-2.06.94z\"/><path d=\"M17.41 7.96l-1.37-1.37c-.4-.4-.92-.59-1.43-.59-.52 0-1.04.2-1.43.59L10.3 9.45l-7.72 7.72c-.78.78-.78 2.05 0 2.83L4 21.41c.39.39.9.59 1.41.59.51 0 1.02-.2 1.41-.59l7.78-7.78 2.81-2.81c.8-.78.8-2.07 0-2.86zM5.41 20L4 18.59l7.72-7.72 1.47 1.35L5.41 20z\"/>\n",
              "  </svg>\n",
              "      </button>\n",
              "      \n",
              "  <style>\n",
              "    .colab-df-container {\n",
              "      display:flex;\n",
              "      flex-wrap:wrap;\n",
              "      gap: 12px;\n",
              "    }\n",
              "\n",
              "    .colab-df-convert {\n",
              "      background-color: #E8F0FE;\n",
              "      border: none;\n",
              "      border-radius: 50%;\n",
              "      cursor: pointer;\n",
              "      display: none;\n",
              "      fill: #1967D2;\n",
              "      height: 32px;\n",
              "      padding: 0 0 0 0;\n",
              "      width: 32px;\n",
              "    }\n",
              "\n",
              "    .colab-df-convert:hover {\n",
              "      background-color: #E2EBFA;\n",
              "      box-shadow: 0px 1px 2px rgba(60, 64, 67, 0.3), 0px 1px 3px 1px rgba(60, 64, 67, 0.15);\n",
              "      fill: #174EA6;\n",
              "    }\n",
              "\n",
              "    [theme=dark] .colab-df-convert {\n",
              "      background-color: #3B4455;\n",
              "      fill: #D2E3FC;\n",
              "    }\n",
              "\n",
              "    [theme=dark] .colab-df-convert:hover {\n",
              "      background-color: #434B5C;\n",
              "      box-shadow: 0px 1px 3px 1px rgba(0, 0, 0, 0.15);\n",
              "      filter: drop-shadow(0px 1px 2px rgba(0, 0, 0, 0.3));\n",
              "      fill: #FFFFFF;\n",
              "    }\n",
              "  </style>\n",
              "\n",
              "      <script>\n",
              "        const buttonEl =\n",
              "          document.querySelector('#df-5d4e1a76-235e-4bd1-bdb5-de81684db2b6 button.colab-df-convert');\n",
              "        buttonEl.style.display =\n",
              "          google.colab.kernel.accessAllowed ? 'block' : 'none';\n",
              "\n",
              "        async function convertToInteractive(key) {\n",
              "          const element = document.querySelector('#df-5d4e1a76-235e-4bd1-bdb5-de81684db2b6');\n",
              "          const dataTable =\n",
              "            await google.colab.kernel.invokeFunction('convertToInteractive',\n",
              "                                                     [key], {});\n",
              "          if (!dataTable) return;\n",
              "\n",
              "          const docLinkHtml = 'Like what you see? Visit the ' +\n",
              "            '<a target=\"_blank\" href=https://colab.research.google.com/notebooks/data_table.ipynb>data table notebook</a>'\n",
              "            + ' to learn more about interactive tables.';\n",
              "          element.innerHTML = '';\n",
              "          dataTable['output_type'] = 'display_data';\n",
              "          await google.colab.output.renderOutput(dataTable, element);\n",
              "          const docLink = document.createElement('div');\n",
              "          docLink.innerHTML = docLinkHtml;\n",
              "          element.appendChild(docLink);\n",
              "        }\n",
              "      </script>\n",
              "    </div>\n",
              "  </div>\n",
              "  "
            ]
          },
          "metadata": {},
          "execution_count": 8
        }
      ],
      "source": [
        "df[df.duplicated()]"
      ]
    },
    {
      "cell_type": "code",
      "execution_count": null,
      "metadata": {
        "colab": {
          "base_uri": "https://localhost:8080/",
          "height": 331
        },
        "id": "AhNWruJEPUzP",
        "outputId": "ad9943fd-1a58-45b7-8a67-08a1950e1c5f"
      },
      "outputs": [
        {
          "output_type": "execute_result",
          "data": {
            "text/plain": [
              "    Time        V1        V2        V3        V4        V5        V6  \\\n",
              "30  24.0  1.237429  0.061043  0.380526  0.761564 -0.359771 -0.494084   \n",
              "31  25.0  1.114009  0.085546  0.493702  1.335760 -0.300189 -0.010754   \n",
              "32  26.0 -0.529912  0.873892  1.347247  0.145457  0.414209  0.100223   \n",
              "33  26.0 -0.529912  0.873892  1.347247  0.145457  0.414209  0.100223   \n",
              "34  26.0 -0.535388  0.865268  1.351076  0.147575  0.433680  0.086983   \n",
              "35  26.0 -0.535388  0.865268  1.351076  0.147575  0.433680  0.086983   \n",
              "\n",
              "          V7        V8        V9  ...       V21       V22       V23       V24  \\\n",
              "30  0.006494 -0.133862  0.438810  ... -0.245682 -0.530900 -0.044265  0.079168   \n",
              "31 -0.118760  0.188617  0.205687  ... -0.053234 -0.004760 -0.031470  0.198054   \n",
              "32  0.711206  0.176066 -0.286717  ...  0.046949  0.208105 -0.185548  0.001031   \n",
              "33  0.711206  0.176066 -0.286717  ...  0.046949  0.208105 -0.185548  0.001031   \n",
              "34  0.693039  0.179742 -0.285642  ...  0.049526  0.206537 -0.187108  0.000753   \n",
              "35  0.693039  0.179742 -0.285642  ...  0.049526  0.206537 -0.187108  0.000753   \n",
              "\n",
              "         V25       V26       V27       V28  Amount  Class  \n",
              "30  0.509136  0.288858 -0.022705  0.011836   17.28      0  \n",
              "31  0.565007 -0.337718  0.029057  0.004453    4.45      0  \n",
              "32  0.098816 -0.552904 -0.073288  0.023307    6.14      0  \n",
              "33  0.098816 -0.552904 -0.073288  0.023307    6.14      0  \n",
              "34  0.098117 -0.553471 -0.078306  0.025427    1.77      0  \n",
              "35  0.098117 -0.553471 -0.078306  0.025427    1.77      0  \n",
              "\n",
              "[6 rows x 31 columns]"
            ],
            "text/html": [
              "\n",
              "  <div id=\"df-13163854-b768-4059-b287-996cd064cc14\">\n",
              "    <div class=\"colab-df-container\">\n",
              "      <div>\n",
              "<style scoped>\n",
              "    .dataframe tbody tr th:only-of-type {\n",
              "        vertical-align: middle;\n",
              "    }\n",
              "\n",
              "    .dataframe tbody tr th {\n",
              "        vertical-align: top;\n",
              "    }\n",
              "\n",
              "    .dataframe thead th {\n",
              "        text-align: right;\n",
              "    }\n",
              "</style>\n",
              "<table border=\"1\" class=\"dataframe\">\n",
              "  <thead>\n",
              "    <tr style=\"text-align: right;\">\n",
              "      <th></th>\n",
              "      <th>Time</th>\n",
              "      <th>V1</th>\n",
              "      <th>V2</th>\n",
              "      <th>V3</th>\n",
              "      <th>V4</th>\n",
              "      <th>V5</th>\n",
              "      <th>V6</th>\n",
              "      <th>V7</th>\n",
              "      <th>V8</th>\n",
              "      <th>V9</th>\n",
              "      <th>...</th>\n",
              "      <th>V21</th>\n",
              "      <th>V22</th>\n",
              "      <th>V23</th>\n",
              "      <th>V24</th>\n",
              "      <th>V25</th>\n",
              "      <th>V26</th>\n",
              "      <th>V27</th>\n",
              "      <th>V28</th>\n",
              "      <th>Amount</th>\n",
              "      <th>Class</th>\n",
              "    </tr>\n",
              "  </thead>\n",
              "  <tbody>\n",
              "    <tr>\n",
              "      <th>30</th>\n",
              "      <td>24.0</td>\n",
              "      <td>1.237429</td>\n",
              "      <td>0.061043</td>\n",
              "      <td>0.380526</td>\n",
              "      <td>0.761564</td>\n",
              "      <td>-0.359771</td>\n",
              "      <td>-0.494084</td>\n",
              "      <td>0.006494</td>\n",
              "      <td>-0.133862</td>\n",
              "      <td>0.438810</td>\n",
              "      <td>...</td>\n",
              "      <td>-0.245682</td>\n",
              "      <td>-0.530900</td>\n",
              "      <td>-0.044265</td>\n",
              "      <td>0.079168</td>\n",
              "      <td>0.509136</td>\n",
              "      <td>0.288858</td>\n",
              "      <td>-0.022705</td>\n",
              "      <td>0.011836</td>\n",
              "      <td>17.28</td>\n",
              "      <td>0</td>\n",
              "    </tr>\n",
              "    <tr>\n",
              "      <th>31</th>\n",
              "      <td>25.0</td>\n",
              "      <td>1.114009</td>\n",
              "      <td>0.085546</td>\n",
              "      <td>0.493702</td>\n",
              "      <td>1.335760</td>\n",
              "      <td>-0.300189</td>\n",
              "      <td>-0.010754</td>\n",
              "      <td>-0.118760</td>\n",
              "      <td>0.188617</td>\n",
              "      <td>0.205687</td>\n",
              "      <td>...</td>\n",
              "      <td>-0.053234</td>\n",
              "      <td>-0.004760</td>\n",
              "      <td>-0.031470</td>\n",
              "      <td>0.198054</td>\n",
              "      <td>0.565007</td>\n",
              "      <td>-0.337718</td>\n",
              "      <td>0.029057</td>\n",
              "      <td>0.004453</td>\n",
              "      <td>4.45</td>\n",
              "      <td>0</td>\n",
              "    </tr>\n",
              "    <tr>\n",
              "      <th>32</th>\n",
              "      <td>26.0</td>\n",
              "      <td>-0.529912</td>\n",
              "      <td>0.873892</td>\n",
              "      <td>1.347247</td>\n",
              "      <td>0.145457</td>\n",
              "      <td>0.414209</td>\n",
              "      <td>0.100223</td>\n",
              "      <td>0.711206</td>\n",
              "      <td>0.176066</td>\n",
              "      <td>-0.286717</td>\n",
              "      <td>...</td>\n",
              "      <td>0.046949</td>\n",
              "      <td>0.208105</td>\n",
              "      <td>-0.185548</td>\n",
              "      <td>0.001031</td>\n",
              "      <td>0.098816</td>\n",
              "      <td>-0.552904</td>\n",
              "      <td>-0.073288</td>\n",
              "      <td>0.023307</td>\n",
              "      <td>6.14</td>\n",
              "      <td>0</td>\n",
              "    </tr>\n",
              "    <tr>\n",
              "      <th>33</th>\n",
              "      <td>26.0</td>\n",
              "      <td>-0.529912</td>\n",
              "      <td>0.873892</td>\n",
              "      <td>1.347247</td>\n",
              "      <td>0.145457</td>\n",
              "      <td>0.414209</td>\n",
              "      <td>0.100223</td>\n",
              "      <td>0.711206</td>\n",
              "      <td>0.176066</td>\n",
              "      <td>-0.286717</td>\n",
              "      <td>...</td>\n",
              "      <td>0.046949</td>\n",
              "      <td>0.208105</td>\n",
              "      <td>-0.185548</td>\n",
              "      <td>0.001031</td>\n",
              "      <td>0.098816</td>\n",
              "      <td>-0.552904</td>\n",
              "      <td>-0.073288</td>\n",
              "      <td>0.023307</td>\n",
              "      <td>6.14</td>\n",
              "      <td>0</td>\n",
              "    </tr>\n",
              "    <tr>\n",
              "      <th>34</th>\n",
              "      <td>26.0</td>\n",
              "      <td>-0.535388</td>\n",
              "      <td>0.865268</td>\n",
              "      <td>1.351076</td>\n",
              "      <td>0.147575</td>\n",
              "      <td>0.433680</td>\n",
              "      <td>0.086983</td>\n",
              "      <td>0.693039</td>\n",
              "      <td>0.179742</td>\n",
              "      <td>-0.285642</td>\n",
              "      <td>...</td>\n",
              "      <td>0.049526</td>\n",
              "      <td>0.206537</td>\n",
              "      <td>-0.187108</td>\n",
              "      <td>0.000753</td>\n",
              "      <td>0.098117</td>\n",
              "      <td>-0.553471</td>\n",
              "      <td>-0.078306</td>\n",
              "      <td>0.025427</td>\n",
              "      <td>1.77</td>\n",
              "      <td>0</td>\n",
              "    </tr>\n",
              "    <tr>\n",
              "      <th>35</th>\n",
              "      <td>26.0</td>\n",
              "      <td>-0.535388</td>\n",
              "      <td>0.865268</td>\n",
              "      <td>1.351076</td>\n",
              "      <td>0.147575</td>\n",
              "      <td>0.433680</td>\n",
              "      <td>0.086983</td>\n",
              "      <td>0.693039</td>\n",
              "      <td>0.179742</td>\n",
              "      <td>-0.285642</td>\n",
              "      <td>...</td>\n",
              "      <td>0.049526</td>\n",
              "      <td>0.206537</td>\n",
              "      <td>-0.187108</td>\n",
              "      <td>0.000753</td>\n",
              "      <td>0.098117</td>\n",
              "      <td>-0.553471</td>\n",
              "      <td>-0.078306</td>\n",
              "      <td>0.025427</td>\n",
              "      <td>1.77</td>\n",
              "      <td>0</td>\n",
              "    </tr>\n",
              "  </tbody>\n",
              "</table>\n",
              "<p>6 rows × 31 columns</p>\n",
              "</div>\n",
              "      <button class=\"colab-df-convert\" onclick=\"convertToInteractive('df-13163854-b768-4059-b287-996cd064cc14')\"\n",
              "              title=\"Convert this dataframe to an interactive table.\"\n",
              "              style=\"display:none;\">\n",
              "        \n",
              "  <svg xmlns=\"http://www.w3.org/2000/svg\" height=\"24px\"viewBox=\"0 0 24 24\"\n",
              "       width=\"24px\">\n",
              "    <path d=\"M0 0h24v24H0V0z\" fill=\"none\"/>\n",
              "    <path d=\"M18.56 5.44l.94 2.06.94-2.06 2.06-.94-2.06-.94-.94-2.06-.94 2.06-2.06.94zm-11 1L8.5 8.5l.94-2.06 2.06-.94-2.06-.94L8.5 2.5l-.94 2.06-2.06.94zm10 10l.94 2.06.94-2.06 2.06-.94-2.06-.94-.94-2.06-.94 2.06-2.06.94z\"/><path d=\"M17.41 7.96l-1.37-1.37c-.4-.4-.92-.59-1.43-.59-.52 0-1.04.2-1.43.59L10.3 9.45l-7.72 7.72c-.78.78-.78 2.05 0 2.83L4 21.41c.39.39.9.59 1.41.59.51 0 1.02-.2 1.41-.59l7.78-7.78 2.81-2.81c.8-.78.8-2.07 0-2.86zM5.41 20L4 18.59l7.72-7.72 1.47 1.35L5.41 20z\"/>\n",
              "  </svg>\n",
              "      </button>\n",
              "      \n",
              "  <style>\n",
              "    .colab-df-container {\n",
              "      display:flex;\n",
              "      flex-wrap:wrap;\n",
              "      gap: 12px;\n",
              "    }\n",
              "\n",
              "    .colab-df-convert {\n",
              "      background-color: #E8F0FE;\n",
              "      border: none;\n",
              "      border-radius: 50%;\n",
              "      cursor: pointer;\n",
              "      display: none;\n",
              "      fill: #1967D2;\n",
              "      height: 32px;\n",
              "      padding: 0 0 0 0;\n",
              "      width: 32px;\n",
              "    }\n",
              "\n",
              "    .colab-df-convert:hover {\n",
              "      background-color: #E2EBFA;\n",
              "      box-shadow: 0px 1px 2px rgba(60, 64, 67, 0.3), 0px 1px 3px 1px rgba(60, 64, 67, 0.15);\n",
              "      fill: #174EA6;\n",
              "    }\n",
              "\n",
              "    [theme=dark] .colab-df-convert {\n",
              "      background-color: #3B4455;\n",
              "      fill: #D2E3FC;\n",
              "    }\n",
              "\n",
              "    [theme=dark] .colab-df-convert:hover {\n",
              "      background-color: #434B5C;\n",
              "      box-shadow: 0px 1px 3px 1px rgba(0, 0, 0, 0.15);\n",
              "      filter: drop-shadow(0px 1px 2px rgba(0, 0, 0, 0.3));\n",
              "      fill: #FFFFFF;\n",
              "    }\n",
              "  </style>\n",
              "\n",
              "      <script>\n",
              "        const buttonEl =\n",
              "          document.querySelector('#df-13163854-b768-4059-b287-996cd064cc14 button.colab-df-convert');\n",
              "        buttonEl.style.display =\n",
              "          google.colab.kernel.accessAllowed ? 'block' : 'none';\n",
              "\n",
              "        async function convertToInteractive(key) {\n",
              "          const element = document.querySelector('#df-13163854-b768-4059-b287-996cd064cc14');\n",
              "          const dataTable =\n",
              "            await google.colab.kernel.invokeFunction('convertToInteractive',\n",
              "                                                     [key], {});\n",
              "          if (!dataTable) return;\n",
              "\n",
              "          const docLinkHtml = 'Like what you see? Visit the ' +\n",
              "            '<a target=\"_blank\" href=https://colab.research.google.com/notebooks/data_table.ipynb>data table notebook</a>'\n",
              "            + ' to learn more about interactive tables.';\n",
              "          element.innerHTML = '';\n",
              "          dataTable['output_type'] = 'display_data';\n",
              "          await google.colab.output.renderOutput(dataTable, element);\n",
              "          const docLink = document.createElement('div');\n",
              "          docLink.innerHTML = docLinkHtml;\n",
              "          element.appendChild(docLink);\n",
              "        }\n",
              "      </script>\n",
              "    </div>\n",
              "  </div>\n",
              "  "
            ]
          },
          "metadata": {},
          "execution_count": 9
        }
      ],
      "source": [
        "#visualizing some of the original and duplicated rows and 33rd and 35th row is the duplicated row\n",
        "df[30:36] "
      ]
    },
    {
      "cell_type": "code",
      "execution_count": null,
      "metadata": {
        "colab": {
          "base_uri": "https://localhost:8080/"
        },
        "id": "_2E6THadP0W5",
        "outputId": "acec38dd-53bb-47bd-bd76-9f21ae98d8a7"
      },
      "outputs": [
        {
          "output_type": "execute_result",
          "data": {
            "text/plain": [
              "0"
            ]
          },
          "metadata": {},
          "execution_count": 45
        }
      ],
      "source": [
        "#removing the duplicated rows\n",
        "df.drop_duplicates(keep ='first',inplace = True)\n",
        "df.duplicated().sum()"
      ]
    },
    {
      "cell_type": "code",
      "execution_count": null,
      "metadata": {
        "colab": {
          "base_uri": "https://localhost:8080/"
        },
        "id": "eHRJgEWOQNNW",
        "outputId": "c5c430ae-b978-47e2-df5e-56be883552bb"
      },
      "outputs": [
        {
          "output_type": "execute_result",
          "data": {
            "text/plain": [
              "Time      0\n",
              "V1        0\n",
              "V2        0\n",
              "V3        0\n",
              "V4        0\n",
              "V5        0\n",
              "V6        0\n",
              "V7        0\n",
              "V8        0\n",
              "V9        0\n",
              "V10       0\n",
              "V11       0\n",
              "V12       0\n",
              "V13       0\n",
              "V14       0\n",
              "V15       0\n",
              "V16       0\n",
              "V17       0\n",
              "V18       0\n",
              "V19       0\n",
              "V20       0\n",
              "V21       0\n",
              "V22       0\n",
              "V23       0\n",
              "V24       0\n",
              "V25       0\n",
              "V26       0\n",
              "V27       0\n",
              "V28       0\n",
              "Amount    0\n",
              "Class     0\n",
              "dtype: int64"
            ]
          },
          "metadata": {},
          "execution_count": 46
        }
      ],
      "source": [
        "#checking for null values\n",
        "df.isnull().sum()"
      ]
    },
    {
      "cell_type": "code",
      "execution_count": null,
      "metadata": {
        "colab": {
          "base_uri": "https://localhost:8080/",
          "height": 394
        },
        "id": "pMOuUHjmQV45",
        "outputId": "779be705-809d-4bcc-a090-3371c818a69c"
      },
      "outputs": [
        {
          "output_type": "execute_result",
          "data": {
            "text/plain": [
              "                Time             V1             V2             V3  \\\n",
              "count  283726.000000  283726.000000  283726.000000  283726.000000   \n",
              "mean    94811.077600       0.005917      -0.004135       0.001613   \n",
              "std     47481.047891       1.948026       1.646703       1.508682   \n",
              "min         0.000000     -56.407510     -72.715728     -48.325589   \n",
              "25%     54204.750000      -0.915951      -0.600321      -0.889682   \n",
              "50%     84692.500000       0.020384       0.063949       0.179963   \n",
              "75%    139298.000000       1.316068       0.800283       1.026960   \n",
              "max    172792.000000       2.454930      22.057729       9.382558   \n",
              "\n",
              "                  V4             V5             V6             V7  \\\n",
              "count  283726.000000  283726.000000  283726.000000  283726.000000   \n",
              "mean       -0.002966       0.001828      -0.001139       0.001801   \n",
              "std         1.414184       1.377008       1.331931       1.227664   \n",
              "min        -5.683171    -113.743307     -26.160506     -43.557242   \n",
              "25%        -0.850134      -0.689830      -0.769031      -0.552509   \n",
              "50%        -0.022248      -0.053468      -0.275168       0.040859   \n",
              "75%         0.739647       0.612218       0.396792       0.570474   \n",
              "max        16.875344      34.801666      73.301626     120.589494   \n",
              "\n",
              "                  V8             V9  ...            V21            V22  \\\n",
              "count  283726.000000  283726.000000  ...  283726.000000  283726.000000   \n",
              "mean       -0.000854      -0.001596  ...      -0.000371      -0.000015   \n",
              "std         1.179054       1.095492  ...       0.723909       0.724550   \n",
              "min       -73.216718     -13.434066  ...     -34.830382     -10.933144   \n",
              "25%        -0.208828      -0.644221  ...      -0.228305      -0.542700   \n",
              "50%         0.021898      -0.052596  ...      -0.029441       0.006675   \n",
              "75%         0.325704       0.595977  ...       0.186194       0.528245   \n",
              "max        20.007208      15.594995  ...      27.202839      10.503090   \n",
              "\n",
              "                 V23            V24            V25            V26  \\\n",
              "count  283726.000000  283726.000000  283726.000000  283726.000000   \n",
              "mean        0.000198       0.000214      -0.000232       0.000149   \n",
              "std         0.623702       0.605627       0.521220       0.482053   \n",
              "min       -44.807735      -2.836627     -10.295397      -2.604551   \n",
              "25%        -0.161703      -0.354453      -0.317485      -0.326763   \n",
              "50%        -0.011159       0.041016       0.016278      -0.052172   \n",
              "75%         0.147748       0.439738       0.350667       0.240261   \n",
              "max        22.528412       4.584549       7.519589       3.517346   \n",
              "\n",
              "                 V27            V28         Amount          Class  \n",
              "count  283726.000000  283726.000000  283726.000000  283726.000000  \n",
              "mean        0.001763       0.000547      88.472687       0.001667  \n",
              "std         0.395744       0.328027     250.399437       0.040796  \n",
              "min       -22.565679     -15.430084       0.000000       0.000000  \n",
              "25%        -0.070641      -0.052818       5.600000       0.000000  \n",
              "50%         0.001479       0.011288      22.000000       0.000000  \n",
              "75%         0.091208       0.078276      77.510000       0.000000  \n",
              "max        31.612198      33.847808   25691.160000       1.000000  \n",
              "\n",
              "[8 rows x 31 columns]"
            ],
            "text/html": [
              "\n",
              "  <div id=\"df-2f349cd3-bc43-4fe6-a068-6f914819b140\">\n",
              "    <div class=\"colab-df-container\">\n",
              "      <div>\n",
              "<style scoped>\n",
              "    .dataframe tbody tr th:only-of-type {\n",
              "        vertical-align: middle;\n",
              "    }\n",
              "\n",
              "    .dataframe tbody tr th {\n",
              "        vertical-align: top;\n",
              "    }\n",
              "\n",
              "    .dataframe thead th {\n",
              "        text-align: right;\n",
              "    }\n",
              "</style>\n",
              "<table border=\"1\" class=\"dataframe\">\n",
              "  <thead>\n",
              "    <tr style=\"text-align: right;\">\n",
              "      <th></th>\n",
              "      <th>Time</th>\n",
              "      <th>V1</th>\n",
              "      <th>V2</th>\n",
              "      <th>V3</th>\n",
              "      <th>V4</th>\n",
              "      <th>V5</th>\n",
              "      <th>V6</th>\n",
              "      <th>V7</th>\n",
              "      <th>V8</th>\n",
              "      <th>V9</th>\n",
              "      <th>...</th>\n",
              "      <th>V21</th>\n",
              "      <th>V22</th>\n",
              "      <th>V23</th>\n",
              "      <th>V24</th>\n",
              "      <th>V25</th>\n",
              "      <th>V26</th>\n",
              "      <th>V27</th>\n",
              "      <th>V28</th>\n",
              "      <th>Amount</th>\n",
              "      <th>Class</th>\n",
              "    </tr>\n",
              "  </thead>\n",
              "  <tbody>\n",
              "    <tr>\n",
              "      <th>count</th>\n",
              "      <td>283726.000000</td>\n",
              "      <td>283726.000000</td>\n",
              "      <td>283726.000000</td>\n",
              "      <td>283726.000000</td>\n",
              "      <td>283726.000000</td>\n",
              "      <td>283726.000000</td>\n",
              "      <td>283726.000000</td>\n",
              "      <td>283726.000000</td>\n",
              "      <td>283726.000000</td>\n",
              "      <td>283726.000000</td>\n",
              "      <td>...</td>\n",
              "      <td>283726.000000</td>\n",
              "      <td>283726.000000</td>\n",
              "      <td>283726.000000</td>\n",
              "      <td>283726.000000</td>\n",
              "      <td>283726.000000</td>\n",
              "      <td>283726.000000</td>\n",
              "      <td>283726.000000</td>\n",
              "      <td>283726.000000</td>\n",
              "      <td>283726.000000</td>\n",
              "      <td>283726.000000</td>\n",
              "    </tr>\n",
              "    <tr>\n",
              "      <th>mean</th>\n",
              "      <td>94811.077600</td>\n",
              "      <td>0.005917</td>\n",
              "      <td>-0.004135</td>\n",
              "      <td>0.001613</td>\n",
              "      <td>-0.002966</td>\n",
              "      <td>0.001828</td>\n",
              "      <td>-0.001139</td>\n",
              "      <td>0.001801</td>\n",
              "      <td>-0.000854</td>\n",
              "      <td>-0.001596</td>\n",
              "      <td>...</td>\n",
              "      <td>-0.000371</td>\n",
              "      <td>-0.000015</td>\n",
              "      <td>0.000198</td>\n",
              "      <td>0.000214</td>\n",
              "      <td>-0.000232</td>\n",
              "      <td>0.000149</td>\n",
              "      <td>0.001763</td>\n",
              "      <td>0.000547</td>\n",
              "      <td>88.472687</td>\n",
              "      <td>0.001667</td>\n",
              "    </tr>\n",
              "    <tr>\n",
              "      <th>std</th>\n",
              "      <td>47481.047891</td>\n",
              "      <td>1.948026</td>\n",
              "      <td>1.646703</td>\n",
              "      <td>1.508682</td>\n",
              "      <td>1.414184</td>\n",
              "      <td>1.377008</td>\n",
              "      <td>1.331931</td>\n",
              "      <td>1.227664</td>\n",
              "      <td>1.179054</td>\n",
              "      <td>1.095492</td>\n",
              "      <td>...</td>\n",
              "      <td>0.723909</td>\n",
              "      <td>0.724550</td>\n",
              "      <td>0.623702</td>\n",
              "      <td>0.605627</td>\n",
              "      <td>0.521220</td>\n",
              "      <td>0.482053</td>\n",
              "      <td>0.395744</td>\n",
              "      <td>0.328027</td>\n",
              "      <td>250.399437</td>\n",
              "      <td>0.040796</td>\n",
              "    </tr>\n",
              "    <tr>\n",
              "      <th>min</th>\n",
              "      <td>0.000000</td>\n",
              "      <td>-56.407510</td>\n",
              "      <td>-72.715728</td>\n",
              "      <td>-48.325589</td>\n",
              "      <td>-5.683171</td>\n",
              "      <td>-113.743307</td>\n",
              "      <td>-26.160506</td>\n",
              "      <td>-43.557242</td>\n",
              "      <td>-73.216718</td>\n",
              "      <td>-13.434066</td>\n",
              "      <td>...</td>\n",
              "      <td>-34.830382</td>\n",
              "      <td>-10.933144</td>\n",
              "      <td>-44.807735</td>\n",
              "      <td>-2.836627</td>\n",
              "      <td>-10.295397</td>\n",
              "      <td>-2.604551</td>\n",
              "      <td>-22.565679</td>\n",
              "      <td>-15.430084</td>\n",
              "      <td>0.000000</td>\n",
              "      <td>0.000000</td>\n",
              "    </tr>\n",
              "    <tr>\n",
              "      <th>25%</th>\n",
              "      <td>54204.750000</td>\n",
              "      <td>-0.915951</td>\n",
              "      <td>-0.600321</td>\n",
              "      <td>-0.889682</td>\n",
              "      <td>-0.850134</td>\n",
              "      <td>-0.689830</td>\n",
              "      <td>-0.769031</td>\n",
              "      <td>-0.552509</td>\n",
              "      <td>-0.208828</td>\n",
              "      <td>-0.644221</td>\n",
              "      <td>...</td>\n",
              "      <td>-0.228305</td>\n",
              "      <td>-0.542700</td>\n",
              "      <td>-0.161703</td>\n",
              "      <td>-0.354453</td>\n",
              "      <td>-0.317485</td>\n",
              "      <td>-0.326763</td>\n",
              "      <td>-0.070641</td>\n",
              "      <td>-0.052818</td>\n",
              "      <td>5.600000</td>\n",
              "      <td>0.000000</td>\n",
              "    </tr>\n",
              "    <tr>\n",
              "      <th>50%</th>\n",
              "      <td>84692.500000</td>\n",
              "      <td>0.020384</td>\n",
              "      <td>0.063949</td>\n",
              "      <td>0.179963</td>\n",
              "      <td>-0.022248</td>\n",
              "      <td>-0.053468</td>\n",
              "      <td>-0.275168</td>\n",
              "      <td>0.040859</td>\n",
              "      <td>0.021898</td>\n",
              "      <td>-0.052596</td>\n",
              "      <td>...</td>\n",
              "      <td>-0.029441</td>\n",
              "      <td>0.006675</td>\n",
              "      <td>-0.011159</td>\n",
              "      <td>0.041016</td>\n",
              "      <td>0.016278</td>\n",
              "      <td>-0.052172</td>\n",
              "      <td>0.001479</td>\n",
              "      <td>0.011288</td>\n",
              "      <td>22.000000</td>\n",
              "      <td>0.000000</td>\n",
              "    </tr>\n",
              "    <tr>\n",
              "      <th>75%</th>\n",
              "      <td>139298.000000</td>\n",
              "      <td>1.316068</td>\n",
              "      <td>0.800283</td>\n",
              "      <td>1.026960</td>\n",
              "      <td>0.739647</td>\n",
              "      <td>0.612218</td>\n",
              "      <td>0.396792</td>\n",
              "      <td>0.570474</td>\n",
              "      <td>0.325704</td>\n",
              "      <td>0.595977</td>\n",
              "      <td>...</td>\n",
              "      <td>0.186194</td>\n",
              "      <td>0.528245</td>\n",
              "      <td>0.147748</td>\n",
              "      <td>0.439738</td>\n",
              "      <td>0.350667</td>\n",
              "      <td>0.240261</td>\n",
              "      <td>0.091208</td>\n",
              "      <td>0.078276</td>\n",
              "      <td>77.510000</td>\n",
              "      <td>0.000000</td>\n",
              "    </tr>\n",
              "    <tr>\n",
              "      <th>max</th>\n",
              "      <td>172792.000000</td>\n",
              "      <td>2.454930</td>\n",
              "      <td>22.057729</td>\n",
              "      <td>9.382558</td>\n",
              "      <td>16.875344</td>\n",
              "      <td>34.801666</td>\n",
              "      <td>73.301626</td>\n",
              "      <td>120.589494</td>\n",
              "      <td>20.007208</td>\n",
              "      <td>15.594995</td>\n",
              "      <td>...</td>\n",
              "      <td>27.202839</td>\n",
              "      <td>10.503090</td>\n",
              "      <td>22.528412</td>\n",
              "      <td>4.584549</td>\n",
              "      <td>7.519589</td>\n",
              "      <td>3.517346</td>\n",
              "      <td>31.612198</td>\n",
              "      <td>33.847808</td>\n",
              "      <td>25691.160000</td>\n",
              "      <td>1.000000</td>\n",
              "    </tr>\n",
              "  </tbody>\n",
              "</table>\n",
              "<p>8 rows × 31 columns</p>\n",
              "</div>\n",
              "      <button class=\"colab-df-convert\" onclick=\"convertToInteractive('df-2f349cd3-bc43-4fe6-a068-6f914819b140')\"\n",
              "              title=\"Convert this dataframe to an interactive table.\"\n",
              "              style=\"display:none;\">\n",
              "        \n",
              "  <svg xmlns=\"http://www.w3.org/2000/svg\" height=\"24px\"viewBox=\"0 0 24 24\"\n",
              "       width=\"24px\">\n",
              "    <path d=\"M0 0h24v24H0V0z\" fill=\"none\"/>\n",
              "    <path d=\"M18.56 5.44l.94 2.06.94-2.06 2.06-.94-2.06-.94-.94-2.06-.94 2.06-2.06.94zm-11 1L8.5 8.5l.94-2.06 2.06-.94-2.06-.94L8.5 2.5l-.94 2.06-2.06.94zm10 10l.94 2.06.94-2.06 2.06-.94-2.06-.94-.94-2.06-.94 2.06-2.06.94z\"/><path d=\"M17.41 7.96l-1.37-1.37c-.4-.4-.92-.59-1.43-.59-.52 0-1.04.2-1.43.59L10.3 9.45l-7.72 7.72c-.78.78-.78 2.05 0 2.83L4 21.41c.39.39.9.59 1.41.59.51 0 1.02-.2 1.41-.59l7.78-7.78 2.81-2.81c.8-.78.8-2.07 0-2.86zM5.41 20L4 18.59l7.72-7.72 1.47 1.35L5.41 20z\"/>\n",
              "  </svg>\n",
              "      </button>\n",
              "      \n",
              "  <style>\n",
              "    .colab-df-container {\n",
              "      display:flex;\n",
              "      flex-wrap:wrap;\n",
              "      gap: 12px;\n",
              "    }\n",
              "\n",
              "    .colab-df-convert {\n",
              "      background-color: #E8F0FE;\n",
              "      border: none;\n",
              "      border-radius: 50%;\n",
              "      cursor: pointer;\n",
              "      display: none;\n",
              "      fill: #1967D2;\n",
              "      height: 32px;\n",
              "      padding: 0 0 0 0;\n",
              "      width: 32px;\n",
              "    }\n",
              "\n",
              "    .colab-df-convert:hover {\n",
              "      background-color: #E2EBFA;\n",
              "      box-shadow: 0px 1px 2px rgba(60, 64, 67, 0.3), 0px 1px 3px 1px rgba(60, 64, 67, 0.15);\n",
              "      fill: #174EA6;\n",
              "    }\n",
              "\n",
              "    [theme=dark] .colab-df-convert {\n",
              "      background-color: #3B4455;\n",
              "      fill: #D2E3FC;\n",
              "    }\n",
              "\n",
              "    [theme=dark] .colab-df-convert:hover {\n",
              "      background-color: #434B5C;\n",
              "      box-shadow: 0px 1px 3px 1px rgba(0, 0, 0, 0.15);\n",
              "      filter: drop-shadow(0px 1px 2px rgba(0, 0, 0, 0.3));\n",
              "      fill: #FFFFFF;\n",
              "    }\n",
              "  </style>\n",
              "\n",
              "      <script>\n",
              "        const buttonEl =\n",
              "          document.querySelector('#df-2f349cd3-bc43-4fe6-a068-6f914819b140 button.colab-df-convert');\n",
              "        buttonEl.style.display =\n",
              "          google.colab.kernel.accessAllowed ? 'block' : 'none';\n",
              "\n",
              "        async function convertToInteractive(key) {\n",
              "          const element = document.querySelector('#df-2f349cd3-bc43-4fe6-a068-6f914819b140');\n",
              "          const dataTable =\n",
              "            await google.colab.kernel.invokeFunction('convertToInteractive',\n",
              "                                                     [key], {});\n",
              "          if (!dataTable) return;\n",
              "\n",
              "          const docLinkHtml = 'Like what you see? Visit the ' +\n",
              "            '<a target=\"_blank\" href=https://colab.research.google.com/notebooks/data_table.ipynb>data table notebook</a>'\n",
              "            + ' to learn more about interactive tables.';\n",
              "          element.innerHTML = '';\n",
              "          dataTable['output_type'] = 'display_data';\n",
              "          await google.colab.output.renderOutput(dataTable, element);\n",
              "          const docLink = document.createElement('div');\n",
              "          docLink.innerHTML = docLinkHtml;\n",
              "          element.appendChild(docLink);\n",
              "        }\n",
              "      </script>\n",
              "    </div>\n",
              "  </div>\n",
              "  "
            ]
          },
          "metadata": {},
          "execution_count": 12
        }
      ],
      "source": [
        "df.describe()"
      ]
    },
    {
      "cell_type": "code",
      "execution_count": null,
      "metadata": {
        "colab": {
          "base_uri": "https://localhost:8080/"
        },
        "id": "MD0FgX8YQeiG",
        "outputId": "2f3381dd-8719-4160-9e85-2242116e848b"
      },
      "outputs": [
        {
          "output_type": "execute_result",
          "data": {
            "text/plain": [
              "283253"
            ]
          },
          "metadata": {},
          "execution_count": 13
        }
      ],
      "source": [
        "len(df[df[ 'Class' ] == 0])"
      ]
    },
    {
      "cell_type": "code",
      "execution_count": null,
      "metadata": {
        "colab": {
          "base_uri": "https://localhost:8080/"
        },
        "id": "DhmtC3YvQ6jr",
        "outputId": "0edfecb3-b448-4797-d067-0e98887eab00"
      },
      "outputs": [
        {
          "output_type": "execute_result",
          "data": {
            "text/plain": [
              "473"
            ]
          },
          "metadata": {},
          "execution_count": 14
        }
      ],
      "source": [
        "len(df[df['Class']==1])"
      ]
    },
    {
      "cell_type": "code",
      "execution_count": null,
      "metadata": {
        "colab": {
          "base_uri": "https://localhost:8080/",
          "height": 443
        },
        "id": "oyagaFlSRHkd",
        "outputId": "0b1a8b4e-d52f-43e1-b579-827ebffb59ac"
      },
      "outputs": [
        {
          "output_type": "stream",
          "name": "stderr",
          "text": [
            "/usr/local/lib/python3.7/dist-packages/seaborn/_decorators.py:43: FutureWarning: Pass the following variable as a keyword arg: x. From version 0.12, the only valid positional argument will be `data`, and passing other arguments without an explicit keyword will result in an error or misinterpretation.\n",
            "  FutureWarning\n"
          ]
        },
        {
          "output_type": "display_data",
          "data": {
            "text/plain": [
              "<Figure size 504x432 with 1 Axes>"
            ],
            "image/png": "[encoded data removed]"
          },
          "metadata": {
            "needs_background": "light"
          }
        }
      ],
      "source": [
        "plt.figure(figsize =(7,6))\n",
        "sns.countplot(df['Class'],hue= df['Class']);"
      ]
    },
    {
      "cell_type": "markdown",
      "source": [
        "As we can see that dataset is completely unbalanced and if we do modeling our model might get biased and give the proper accuracy with these imbalanced dataset.So first we will try to balance the dataset by using Understanding method."
      ],
      "metadata": {
        "id": "PQouc7RFzHhS"
      }
    },
    {
      "cell_type": "code",
      "execution_count": null,
      "metadata": {
        "colab": {
          "base_uri": "https://localhost:8080/"
        },
        "id": "mjoKLdgaSDSj",
        "outputId": "2021a089-a32b-4f82-b124-5bebf85fd622"
      },
      "outputs": [
        {
          "output_type": "execute_result",
          "data": {
            "text/plain": [
              "(283726,)"
            ]
          },
          "metadata": {},
          "execution_count": 16
        }
      ],
      "source": [
        "#Splitting our dataset into independent and dependent features\n",
        "X = df.drop(['Class'],axis = 1)\n",
        "X.head()\n",
        "X.shape\n",
        "\n",
        " \n",
        "Y = df['Class']\n",
        "Y.head()\n",
        "Y.shape"
      ]
    },
    {
      "cell_type": "code",
      "source": [
        "#Implementing UnderSampling to handle imbalanced dataset \n",
        "under_sampler = RandomUnderSampler()\n",
        "X_1, Y_1 = under_sampler.fit_resample(X, Y)\n",
        "X_1.shape\n",
        "Y_1.shape"
      ],
      "metadata": {
        "colab": {
          "base_uri": "https://localhost:8080/"
        },
        "id": "wgPd9T6ET2bz",
        "outputId": "da264933-0849-40fb-a7e9-6767dbf4b06d"
      },
      "execution_count": null,
      "outputs": [
        {
          "output_type": "execute_result",
          "data": {
            "text/plain": [
              "(946,)"
            ]
          },
          "metadata": {},
          "execution_count": 22
        }
      ]
    },
    {
      "cell_type": "code",
      "source": [
        "X_1.head()\n",
        "Y_1.head()"
      ],
      "metadata": {
        "colab": {
          "base_uri": "https://localhost:8080/"
        },
        "id": "2YvpQKRAUE7A",
        "outputId": "f499321d-a167-4aec-eb15-12e5230027b8"
      },
      "execution_count": null,
      "outputs": [
        {
          "output_type": "execute_result",
          "data": {
            "text/plain": [
              "0    0\n",
              "1    0\n",
              "2    0\n",
              "3    0\n",
              "4    0\n",
              "Name: Class, dtype: int64"
            ]
          },
          "metadata": {},
          "execution_count": 23
        }
      ]
    },
    {
      "cell_type": "code",
      "source": [],
      "metadata": {
        "id": "PkUEo8p010By"
      },
      "execution_count": null,
      "outputs": []
    },
    {
      "cell_type": "code",
      "source": [
        "plt.figure(figsize=(8,6))\n",
        "sns.countplot(Y_1 , hue = Y_1);"
      ],
      "metadata": {
        "colab": {
          "base_uri": "https://localhost:8080/",
          "height": 443
        },
        "id": "A5ViINrGVVaV",
        "outputId": "a4145280-8c88-4e49-a405-0b9523f5491a"
      },
      "execution_count": null,
      "outputs": [
        {
          "output_type": "stream",
          "name": "stderr",
          "text": [
            "/usr/local/lib/python3.7/dist-packages/seaborn/_decorators.py:43: FutureWarning: Pass the following variable as a keyword arg: x. From version 0.12, the only valid positional argument will be `data`, and passing other arguments without an explicit keyword will result in an error or misinterpretation.\n",
            "  FutureWarning\n"
          ]
        },
        {
          "output_type": "display_data",
          "data": {
            "text/plain": [
              "<Figure size 576x432 with 1 Axes>"
            ],
            "image/png": "[encoded data removed]"
          },
          "metadata": {
            "needs_background": "light"
          }
        }
      ]
    },
    {
      "cell_type": "markdown",
      "source": [
        "As from the above plot we can say that our dataset is now balanced and we can now apply any classification algorithm. So we are applying logistic regression"
      ],
      "metadata": {
        "id": "uur3Oq8_2KUg"
      }
    },
    {
      "cell_type": "code",
      "source": [
        "X_train , X_test,Y_train, Y_test = train_test_split(X_1,Y_1 , test_size =  0.20,random_state = 40)\n",
        "print(\"X_train :\",X_train.shape)\n",
        "print(\"X_test :\",X_test.shape)\n",
        "print(\"Y_train :\",Y_train.shape) \n",
        "print(\"Y_test :\",Y_test.shape)                                                  "
      ],
      "metadata": {
        "colab": {
          "base_uri": "https://localhost:8080/"
        },
        "id": "lI95I8cUVl_B",
        "outputId": "9471ae57-d44d-4c27-cca1-6dbc28279b2e"
      },
      "execution_count": null,
      "outputs": [
        {
          "output_type": "stream",
          "name": "stdout",
          "text": [
            "X_train : (756, 30)\n",
            "X_test : (190, 30)\n",
            "Y_train : (756,)\n",
            "Y_test : (190,)\n"
          ]
        }
      ]
    },
    {
      "cell_type": "code",
      "source": [
        "model = LogisticRegression()\n",
        "model.fit(X_train , Y_train)"
      ],
      "metadata": {
        "colab": {
          "base_uri": "https://localhost:8080/"
        },
        "id": "t9Jy9I_ZrBSJ",
        "outputId": "c6ec9247-9272-43f4-b133-10dcdd241d9b"
      },
      "execution_count": null,
      "outputs": [
        {
          "output_type": "stream",
          "name": "stderr",
          "text": [
            "/usr/local/lib/python3.7/dist-packages/sklearn/linear_model/_logistic.py:818: ConvergenceWarning: lbfgs failed to converge (status=1):\n",
            "STOP: TOTAL NO. of ITERATIONS REACHED LIMIT.\n",
            "\n",
            "Increase the number of iterations (max_iter) or scale the data as shown in:\n",
            "    https://scikit-learn.org/stable/modules/preprocessing.html\n",
            "Please also refer to the documentation for alternative solver options:\n",
            "    https://scikit-learn.org/stable/modules/linear_model.html#logistic-regression\n",
            "  extra_warning_msg=_LOGISTIC_SOLVER_CONVERGENCE_MSG,\n"
          ]
        },
        {
          "output_type": "execute_result",
          "data": {
            "text/plain": [
              "LogisticRegression()"
            ]
          },
          "metadata": {},
          "execution_count": 32
        }
      ]
    },
    {
      "cell_type": "code",
      "source": [
        "Y_predicted = model.predict(X_test)\n",
        "Y_predicted"
      ],
      "metadata": {
        "colab": {
          "base_uri": "https://localhost:8080/"
        },
        "id": "SaCH3zqvrgQS",
        "outputId": "b898ad9c-6ec5-430d-d6f0-03008607dd1e"
      },
      "execution_count": null,
      "outputs": [
        {
          "output_type": "execute_result",
          "data": {
            "text/plain": [
              "array([0, 1, 1, 1, 0, 0, 1, 1, 0, 0, 1, 1, 1, 1, 0, 0, 1, 1, 1, 1, 0, 1,\n",
              "       0, 1, 0, 0, 0, 0, 0, 0, 1, 1, 1, 1, 0, 0, 0, 0, 0, 0, 0, 0, 1, 0,\n",
              "       0, 0, 0, 1, 0, 1, 1, 1, 1, 1, 0, 1, 0, 0, 1, 1, 0, 0, 1, 0, 1, 1,\n",
              "       0, 0, 1, 1, 0, 0, 1, 0, 1, 0, 1, 1, 0, 0, 1, 1, 0, 0, 0, 0, 1, 0,\n",
              "       0, 1, 1, 1, 0, 0, 0, 1, 1, 1, 0, 1, 0, 1, 0, 0, 0, 1, 0, 0, 0, 0,\n",
              "       0, 0, 1, 0, 1, 1, 0, 0, 1, 1, 0, 0, 1, 1, 0, 0, 1, 1, 0, 1, 1, 0,\n",
              "       0, 0, 0, 1, 0, 0, 0, 0, 0, 1, 1, 0, 1, 1, 0, 0, 0, 1, 1, 1, 1, 1,\n",
              "       0, 1, 0, 0, 1, 1, 0, 1, 1, 1, 0, 0, 0, 0, 0, 0, 1, 1, 0, 1, 1, 0,\n",
              "       0, 0, 0, 0, 0, 1, 0, 0, 0, 0, 1, 0, 0, 0])"
            ]
          },
          "metadata": {},
          "execution_count": 33
        }
      ]
    },
    {
      "cell_type": "code",
      "source": [
        "model.score(X_test , Y_test)"
      ],
      "metadata": {
        "colab": {
          "base_uri": "https://localhost:8080/"
        },
        "id": "2XmP39LSr8lN",
        "outputId": "ab4d5017-9af9-4fb8-f856-02dd937ec37a"
      },
      "execution_count": null,
      "outputs": [
        {
          "output_type": "execute_result",
          "data": {
            "text/plain": [
              "0.9315789473684211"
            ]
          },
          "metadata": {},
          "execution_count": 34
        }
      ]
    },
    {
      "cell_type": "code",
      "source": [
        "model.coef_"
      ],
      "metadata": {
        "colab": {
          "base_uri": "https://localhost:8080/"
        },
        "id": "ggK-BEgCsfwF",
        "outputId": "7a247f7b-a6de-4783-8c84-c3484c792270"
      },
      "execution_count": null,
      "outputs": [
        {
          "output_type": "execute_result",
          "data": {
            "text/plain": [
              "array([[-2.77785161e-05, -3.60171046e-02,  4.72311752e-02,\n",
              "        -4.83623184e-01,  6.88352450e-01,  5.10329266e-01,\n",
              "        -7.65257920e-02,  1.66591294e-02, -6.43756616e-01,\n",
              "        -1.54844091e-02, -4.07142536e-02,  2.92868033e-01,\n",
              "        -3.24037140e-01, -2.43821723e-01, -8.94671579e-01,\n",
              "        -4.69931587e-01, -1.89884561e-01, -2.39593994e-01,\n",
              "         1.11696189e-02,  2.37020742e-01, -1.05721165e-01,\n",
              "         1.09263613e-01,  4.54644999e-01, -2.50136271e-01,\n",
              "        -7.82724784e-02, -1.71877921e-01, -1.70792513e-01,\n",
              "        -1.34632953e-01,  1.19813574e-01,  6.36252618e-04]])"
            ]
          },
          "metadata": {},
          "execution_count": 36
        }
      ]
    },
    {
      "cell_type": "code",
      "source": [
        "model.intercept_"
      ],
      "metadata": {
        "colab": {
          "base_uri": "https://localhost:8080/"
        },
        "id": "MEKxcKSYvTlf",
        "outputId": "44311f84-3370-4381-eaf0-e94db5847db7"
      },
      "execution_count": null,
      "outputs": [
        {
          "output_type": "execute_result",
          "data": {
            "text/plain": [
              "array([-0.5021609])"
            ]
          },
          "metadata": {},
          "execution_count": 39
        }
      ]
    },
    {
      "cell_type": "code",
      "source": [
        "cm = confusion_matrix(Y_test , Y_predicted)\n",
        "print(\"confusion_matrix : \")\n",
        "print(cm)\n",
        "print(\"accuracy_score :\", accuracy_score(Y_test , Y_predicted))\n",
        "print(classification_report(Y_test , Y_predicted))"
      ],
      "metadata": {
        "colab": {
          "base_uri": "https://localhost:8080/"
        },
        "id": "WdR62ESjvdq9",
        "outputId": "c52d7c2c-0eac-4998-972e-874ccde57664"
      },
      "execution_count": null,
      "outputs": [
        {
          "output_type": "stream",
          "name": "stdout",
          "text": [
            "confusion_matrix : \n",
            "[[95  1]\n",
            " [12 82]]\n",
            "accuracy_score : 0.9315789473684211\n",
            "              precision    recall  f1-score   support\n",
            "\n",
            "           0       0.89      0.99      0.94        96\n",
            "           1       0.99      0.87      0.93        94\n",
            "\n",
            "    accuracy                           0.93       190\n",
            "   macro avg       0.94      0.93      0.93       190\n",
            "weighted avg       0.94      0.93      0.93       190\n",
            "\n"
          ]
        }
      ]
    },
    {
      "cell_type": "code",
      "source": [],
      "metadata": {
        "id": "y9-Kf5_LwA-f"
      },
      "execution_count": null,
      "outputs": []
    }
  ],
  "metadata": {
    "colab": {
      "provenance": [],
      "authorship_tag": "ABX9TyP3X1SCxGAWikhsHIrL77WV",
      "include_colab_link": true
    },
    "kernelspec": {
      "display_name": "Python 3",
      "name": "python3"
    },
    "language_info": {
      "name": "python"
    }
  },
  "nbformat": 4,
  "nbformat_minor": 0
}